{
 "cells": [
  {
   "cell_type": "markdown",
   "metadata": {},
   "source": [
    "Processing data from triantaphyllou 1981 Table 1 into a pandas dataframe\n",
    "\n",
    "Triantaphyllou AC: Oogenesis and the Chromosomes of the Parthenogenic Root-knot Nematode Meloidogyne incognita. J Nematol 1981, 13:95–104."
   ]
  },
  {
   "cell_type": "code",
   "execution_count": 1,
   "metadata": {
    "collapsed": true
   },
   "outputs": [],
   "source": [
    "%matplotlib inline\n",
    "import pandas as pd"
   ]
  },
  {
   "cell_type": "code",
   "execution_count": 19,
   "metadata": {
    "collapsed": false
   },
   "outputs": [
    {
     "data": {
      "text/html": [
       "<div>\n",
       "<table border=\"1\" class=\"dataframe\">\n",
       "  <thead>\n",
       "    <tr style=\"text-align: right;\">\n",
       "      <th></th>\n",
       "      <th>Isolate</th>\n",
       "      <th>Country</th>\n",
       "    </tr>\n",
       "  </thead>\n",
       "  <tbody>\n",
       "    <tr>\n",
       "      <th>0</th>\n",
       "      <td>4-N.C.</td>\n",
       "      <td>USA</td>\n",
       "    </tr>\n",
       "    <tr>\n",
       "      <th>1</th>\n",
       "      <td>19-N.C.</td>\n",
       "      <td>USA</td>\n",
       "    </tr>\n",
       "    <tr>\n",
       "      <th>2</th>\n",
       "      <td>73-Fla.</td>\n",
       "      <td>USA</td>\n",
       "    </tr>\n",
       "    <tr>\n",
       "      <th>3</th>\n",
       "      <td>22-N.C.</td>\n",
       "      <td>USA</td>\n",
       "    </tr>\n",
       "    <tr>\n",
       "      <th>4</th>\n",
       "      <td>79-Ohio</td>\n",
       "      <td>USA</td>\n",
       "    </tr>\n",
       "  </tbody>\n",
       "</table>\n",
       "</div>"
      ],
      "text/plain": [
       "   Isolate Country\n",
       "0   4-N.C.     USA\n",
       "1  19-N.C.     USA\n",
       "2  73-Fla.     USA\n",
       "3  22-N.C.     USA\n",
       "4  79-Ohio     USA"
      ]
     },
     "execution_count": 19,
     "metadata": {},
     "output_type": "execute_result"
    }
   ],
   "source": [
    "data = pd.read_csv(\n",
    "    'Triant81raceA.csv')\n",
    "data.head()"
   ]
  },
  {
   "cell_type": "code",
   "execution_count": 21,
   "metadata": {
    "collapsed": false
   },
   "outputs": [
    {
     "data": {
      "text/html": [
       "<div>\n",
       "<table border=\"1\" class=\"dataframe\">\n",
       "  <thead>\n",
       "    <tr style=\"text-align: right;\">\n",
       "      <th></th>\n",
       "      <th>Isolate</th>\n",
       "      <th>Country</th>\n",
       "    </tr>\n",
       "  </thead>\n",
       "  <tbody>\n",
       "    <tr>\n",
       "      <th>0</th>\n",
       "      <td>4-N.C.</td>\n",
       "      <td>USA</td>\n",
       "    </tr>\n",
       "    <tr>\n",
       "      <th>1</th>\n",
       "      <td>19-N.C.</td>\n",
       "      <td>USA</td>\n",
       "    </tr>\n",
       "    <tr>\n",
       "      <th>2</th>\n",
       "      <td>73-Fla.</td>\n",
       "      <td>USA</td>\n",
       "    </tr>\n",
       "    <tr>\n",
       "      <th>3</th>\n",
       "      <td>22-N.C.</td>\n",
       "      <td>USA</td>\n",
       "    </tr>\n",
       "    <tr>\n",
       "      <th>4</th>\n",
       "      <td>79-Ohio</td>\n",
       "      <td>USA</td>\n",
       "    </tr>\n",
       "  </tbody>\n",
       "</table>\n",
       "</div>"
      ],
      "text/plain": [
       "   Isolate Country\n",
       "0   4-N.C.     USA\n",
       "1  19-N.C.     USA\n",
       "2  73-Fla.     USA\n",
       "3  22-N.C.     USA\n",
       "4  79-Ohio     USA"
      ]
     },
     "execution_count": 21,
     "metadata": {},
     "output_type": "execute_result"
    }
   ],
   "source": [
    "filled = data\n",
    "filled.head()"
   ]
  },
  {
   "cell_type": "code",
   "execution_count": 22,
   "metadata": {
    "collapsed": false
   },
   "outputs": [
    {
     "data": {
      "text/html": [
       "<div>\n",
       "<table border=\"1\" class=\"dataframe\">\n",
       "  <thead>\n",
       "    <tr style=\"text-align: right;\">\n",
       "      <th></th>\n",
       "      <th>Species</th>\n",
       "      <th>Isolate</th>\n",
       "      <th>Country</th>\n",
       "    </tr>\n",
       "  </thead>\n",
       "  <tbody>\n",
       "    <tr>\n",
       "      <th>0</th>\n",
       "      <td>M. incognita</td>\n",
       "      <td>4-N.C.</td>\n",
       "      <td>USA</td>\n",
       "    </tr>\n",
       "    <tr>\n",
       "      <th>1</th>\n",
       "      <td>M. incognita</td>\n",
       "      <td>19-N.C.</td>\n",
       "      <td>USA</td>\n",
       "    </tr>\n",
       "    <tr>\n",
       "      <th>2</th>\n",
       "      <td>M. incognita</td>\n",
       "      <td>73-Fla.</td>\n",
       "      <td>USA</td>\n",
       "    </tr>\n",
       "    <tr>\n",
       "      <th>3</th>\n",
       "      <td>M. incognita</td>\n",
       "      <td>22-N.C.</td>\n",
       "      <td>USA</td>\n",
       "    </tr>\n",
       "    <tr>\n",
       "      <th>4</th>\n",
       "      <td>M. incognita</td>\n",
       "      <td>79-Ohio</td>\n",
       "      <td>USA</td>\n",
       "    </tr>\n",
       "  </tbody>\n",
       "</table>\n",
       "</div>"
      ],
      "text/plain": [
       "        Species  Isolate Country\n",
       "0  M. incognita   4-N.C.     USA\n",
       "1  M. incognita  19-N.C.     USA\n",
       "2  M. incognita  73-Fla.     USA\n",
       "3  M. incognita  22-N.C.     USA\n",
       "4  M. incognita  79-Ohio     USA"
      ]
     },
     "execution_count": 22,
     "metadata": {},
     "output_type": "execute_result"
    }
   ],
   "source": [
    "filled.insert(0,'Species','M. incognita')\n",
    "filled.head()"
   ]
  },
  {
   "cell_type": "code",
   "execution_count": 23,
   "metadata": {
    "collapsed": false
   },
   "outputs": [
    {
     "data": {
      "text/html": [
       "<div>\n",
       "<table border=\"1\" class=\"dataframe\">\n",
       "  <thead>\n",
       "    <tr style=\"text-align: right;\">\n",
       "      <th></th>\n",
       "      <th>Species</th>\n",
       "      <th>Isolate</th>\n",
       "      <th>Country</th>\n",
       "      <th>Reproduction</th>\n",
       "    </tr>\n",
       "  </thead>\n",
       "  <tbody>\n",
       "    <tr>\n",
       "      <th>0</th>\n",
       "      <td>M. incognita</td>\n",
       "      <td>4-N.C.</td>\n",
       "      <td>USA</td>\n",
       "      <td>apomixis</td>\n",
       "    </tr>\n",
       "    <tr>\n",
       "      <th>1</th>\n",
       "      <td>M. incognita</td>\n",
       "      <td>19-N.C.</td>\n",
       "      <td>USA</td>\n",
       "      <td>apomixis</td>\n",
       "    </tr>\n",
       "    <tr>\n",
       "      <th>2</th>\n",
       "      <td>M. incognita</td>\n",
       "      <td>73-Fla.</td>\n",
       "      <td>USA</td>\n",
       "      <td>apomixis</td>\n",
       "    </tr>\n",
       "    <tr>\n",
       "      <th>3</th>\n",
       "      <td>M. incognita</td>\n",
       "      <td>22-N.C.</td>\n",
       "      <td>USA</td>\n",
       "      <td>apomixis</td>\n",
       "    </tr>\n",
       "    <tr>\n",
       "      <th>4</th>\n",
       "      <td>M. incognita</td>\n",
       "      <td>79-Ohio</td>\n",
       "      <td>USA</td>\n",
       "      <td>apomixis</td>\n",
       "    </tr>\n",
       "  </tbody>\n",
       "</table>\n",
       "</div>"
      ],
      "text/plain": [
       "        Species  Isolate Country Reproduction\n",
       "0  M. incognita   4-N.C.     USA     apomixis\n",
       "1  M. incognita  19-N.C.     USA     apomixis\n",
       "2  M. incognita  73-Fla.     USA     apomixis\n",
       "3  M. incognita  22-N.C.     USA     apomixis\n",
       "4  M. incognita  79-Ohio     USA     apomixis"
      ]
     },
     "execution_count": 23,
     "metadata": {},
     "output_type": "execute_result"
    }
   ],
   "source": [
    "filled.insert(3,'Reproduction','apomixis')\n",
    "filled.head()"
   ]
  },
  {
   "cell_type": "code",
   "execution_count": 24,
   "metadata": {
    "collapsed": false
   },
   "outputs": [
    {
     "data": {
      "text/html": [
       "<div>\n",
       "<table border=\"1\" class=\"dataframe\">\n",
       "  <thead>\n",
       "    <tr style=\"text-align: right;\">\n",
       "      <th></th>\n",
       "      <th>Species</th>\n",
       "      <th>csome_low</th>\n",
       "      <th>Isolate</th>\n",
       "      <th>Country</th>\n",
       "      <th>Reproduction</th>\n",
       "    </tr>\n",
       "  </thead>\n",
       "  <tbody>\n",
       "    <tr>\n",
       "      <th>0</th>\n",
       "      <td>M. incognita</td>\n",
       "      <td>40</td>\n",
       "      <td>4-N.C.</td>\n",
       "      <td>USA</td>\n",
       "      <td>apomixis</td>\n",
       "    </tr>\n",
       "    <tr>\n",
       "      <th>1</th>\n",
       "      <td>M. incognita</td>\n",
       "      <td>40</td>\n",
       "      <td>19-N.C.</td>\n",
       "      <td>USA</td>\n",
       "      <td>apomixis</td>\n",
       "    </tr>\n",
       "    <tr>\n",
       "      <th>2</th>\n",
       "      <td>M. incognita</td>\n",
       "      <td>40</td>\n",
       "      <td>73-Fla.</td>\n",
       "      <td>USA</td>\n",
       "      <td>apomixis</td>\n",
       "    </tr>\n",
       "    <tr>\n",
       "      <th>3</th>\n",
       "      <td>M. incognita</td>\n",
       "      <td>40</td>\n",
       "      <td>22-N.C.</td>\n",
       "      <td>USA</td>\n",
       "      <td>apomixis</td>\n",
       "    </tr>\n",
       "    <tr>\n",
       "      <th>4</th>\n",
       "      <td>M. incognita</td>\n",
       "      <td>40</td>\n",
       "      <td>79-Ohio</td>\n",
       "      <td>USA</td>\n",
       "      <td>apomixis</td>\n",
       "    </tr>\n",
       "  </tbody>\n",
       "</table>\n",
       "</div>"
      ],
      "text/plain": [
       "        Species csome_low  Isolate Country Reproduction\n",
       "0  M. incognita        40   4-N.C.     USA     apomixis\n",
       "1  M. incognita        40  19-N.C.     USA     apomixis\n",
       "2  M. incognita        40  73-Fla.     USA     apomixis\n",
       "3  M. incognita        40  22-N.C.     USA     apomixis\n",
       "4  M. incognita        40  79-Ohio     USA     apomixis"
      ]
     },
     "execution_count": 24,
     "metadata": {},
     "output_type": "execute_result"
    }
   ],
   "source": [
    "filled.insert(1,'csome_low','40')\n",
    "filled.head()"
   ]
  },
  {
   "cell_type": "code",
   "execution_count": 25,
   "metadata": {
    "collapsed": false
   },
   "outputs": [
    {
     "data": {
      "text/html": [
       "<div>\n",
       "<table border=\"1\" class=\"dataframe\">\n",
       "  <thead>\n",
       "    <tr style=\"text-align: right;\">\n",
       "      <th></th>\n",
       "      <th>Species</th>\n",
       "      <th>csome_low</th>\n",
       "      <th>csome_high</th>\n",
       "      <th>Isolate</th>\n",
       "      <th>Country</th>\n",
       "      <th>Reproduction</th>\n",
       "    </tr>\n",
       "  </thead>\n",
       "  <tbody>\n",
       "    <tr>\n",
       "      <th>0</th>\n",
       "      <td>M. incognita</td>\n",
       "      <td>40</td>\n",
       "      <td>46</td>\n",
       "      <td>4-N.C.</td>\n",
       "      <td>USA</td>\n",
       "      <td>apomixis</td>\n",
       "    </tr>\n",
       "    <tr>\n",
       "      <th>1</th>\n",
       "      <td>M. incognita</td>\n",
       "      <td>40</td>\n",
       "      <td>46</td>\n",
       "      <td>19-N.C.</td>\n",
       "      <td>USA</td>\n",
       "      <td>apomixis</td>\n",
       "    </tr>\n",
       "    <tr>\n",
       "      <th>2</th>\n",
       "      <td>M. incognita</td>\n",
       "      <td>40</td>\n",
       "      <td>46</td>\n",
       "      <td>73-Fla.</td>\n",
       "      <td>USA</td>\n",
       "      <td>apomixis</td>\n",
       "    </tr>\n",
       "    <tr>\n",
       "      <th>3</th>\n",
       "      <td>M. incognita</td>\n",
       "      <td>40</td>\n",
       "      <td>46</td>\n",
       "      <td>22-N.C.</td>\n",
       "      <td>USA</td>\n",
       "      <td>apomixis</td>\n",
       "    </tr>\n",
       "    <tr>\n",
       "      <th>4</th>\n",
       "      <td>M. incognita</td>\n",
       "      <td>40</td>\n",
       "      <td>46</td>\n",
       "      <td>79-Ohio</td>\n",
       "      <td>USA</td>\n",
       "      <td>apomixis</td>\n",
       "    </tr>\n",
       "  </tbody>\n",
       "</table>\n",
       "</div>"
      ],
      "text/plain": [
       "        Species csome_low csome_high  Isolate Country Reproduction\n",
       "0  M. incognita        40         46   4-N.C.     USA     apomixis\n",
       "1  M. incognita        40         46  19-N.C.     USA     apomixis\n",
       "2  M. incognita        40         46  73-Fla.     USA     apomixis\n",
       "3  M. incognita        40         46  22-N.C.     USA     apomixis\n",
       "4  M. incognita        40         46  79-Ohio     USA     apomixis"
      ]
     },
     "execution_count": 25,
     "metadata": {},
     "output_type": "execute_result"
    }
   ],
   "source": [
    "filled.insert(2,'csome_high','46')\n",
    "filled.head()"
   ]
  },
  {
   "cell_type": "code",
   "execution_count": 26,
   "metadata": {
    "collapsed": false
   },
   "outputs": [
    {
     "data": {
      "text/html": [
       "<div>\n",
       "<table border=\"1\" class=\"dataframe\">\n",
       "  <thead>\n",
       "    <tr style=\"text-align: right;\">\n",
       "      <th></th>\n",
       "      <th>Species</th>\n",
       "      <th>csome_low</th>\n",
       "      <th>csome_high</th>\n",
       "      <th>N</th>\n",
       "      <th>Isolate</th>\n",
       "      <th>Country</th>\n",
       "      <th>Reproduction</th>\n",
       "    </tr>\n",
       "  </thead>\n",
       "  <tbody>\n",
       "    <tr>\n",
       "      <th>0</th>\n",
       "      <td>M. incognita</td>\n",
       "      <td>40</td>\n",
       "      <td>46</td>\n",
       "      <td>1</td>\n",
       "      <td>4-N.C.</td>\n",
       "      <td>USA</td>\n",
       "      <td>apomixis</td>\n",
       "    </tr>\n",
       "    <tr>\n",
       "      <th>1</th>\n",
       "      <td>M. incognita</td>\n",
       "      <td>40</td>\n",
       "      <td>46</td>\n",
       "      <td>1</td>\n",
       "      <td>19-N.C.</td>\n",
       "      <td>USA</td>\n",
       "      <td>apomixis</td>\n",
       "    </tr>\n",
       "    <tr>\n",
       "      <th>2</th>\n",
       "      <td>M. incognita</td>\n",
       "      <td>40</td>\n",
       "      <td>46</td>\n",
       "      <td>1</td>\n",
       "      <td>73-Fla.</td>\n",
       "      <td>USA</td>\n",
       "      <td>apomixis</td>\n",
       "    </tr>\n",
       "    <tr>\n",
       "      <th>3</th>\n",
       "      <td>M. incognita</td>\n",
       "      <td>40</td>\n",
       "      <td>46</td>\n",
       "      <td>1</td>\n",
       "      <td>22-N.C.</td>\n",
       "      <td>USA</td>\n",
       "      <td>apomixis</td>\n",
       "    </tr>\n",
       "    <tr>\n",
       "      <th>4</th>\n",
       "      <td>M. incognita</td>\n",
       "      <td>40</td>\n",
       "      <td>46</td>\n",
       "      <td>1</td>\n",
       "      <td>79-Ohio</td>\n",
       "      <td>USA</td>\n",
       "      <td>apomixis</td>\n",
       "    </tr>\n",
       "  </tbody>\n",
       "</table>\n",
       "</div>"
      ],
      "text/plain": [
       "        Species csome_low csome_high  N  Isolate Country Reproduction\n",
       "0  M. incognita        40         46  1   4-N.C.     USA     apomixis\n",
       "1  M. incognita        40         46  1  19-N.C.     USA     apomixis\n",
       "2  M. incognita        40         46  1  73-Fla.     USA     apomixis\n",
       "3  M. incognita        40         46  1  22-N.C.     USA     apomixis\n",
       "4  M. incognita        40         46  1  79-Ohio     USA     apomixis"
      ]
     },
     "execution_count": 26,
     "metadata": {},
     "output_type": "execute_result"
    }
   ],
   "source": [
    "filled.insert(3,'N','1')\n",
    "filled.head()"
   ]
  },
  {
   "cell_type": "code",
   "execution_count": 27,
   "metadata": {
    "collapsed": false
   },
   "outputs": [
    {
     "data": {
      "text/html": [
       "<div>\n",
       "<table border=\"1\" class=\"dataframe\">\n",
       "  <thead>\n",
       "    <tr style=\"text-align: right;\">\n",
       "      <th></th>\n",
       "      <th>Species</th>\n",
       "      <th>csome_low</th>\n",
       "      <th>csome_high</th>\n",
       "      <th>N</th>\n",
       "      <th>Isolate</th>\n",
       "      <th>Country</th>\n",
       "      <th>Reproduction</th>\n",
       "      <th>Reference</th>\n",
       "    </tr>\n",
       "  </thead>\n",
       "  <tbody>\n",
       "    <tr>\n",
       "      <th>0</th>\n",
       "      <td>M. incognita</td>\n",
       "      <td>40</td>\n",
       "      <td>46</td>\n",
       "      <td>1</td>\n",
       "      <td>4-N.C.</td>\n",
       "      <td>USA</td>\n",
       "      <td>apomixis</td>\n",
       "      <td>Triantaphyllou AC: Oogenesis and the Chromosom...</td>\n",
       "    </tr>\n",
       "    <tr>\n",
       "      <th>1</th>\n",
       "      <td>M. incognita</td>\n",
       "      <td>40</td>\n",
       "      <td>46</td>\n",
       "      <td>1</td>\n",
       "      <td>19-N.C.</td>\n",
       "      <td>USA</td>\n",
       "      <td>apomixis</td>\n",
       "      <td>Triantaphyllou AC: Oogenesis and the Chromosom...</td>\n",
       "    </tr>\n",
       "    <tr>\n",
       "      <th>2</th>\n",
       "      <td>M. incognita</td>\n",
       "      <td>40</td>\n",
       "      <td>46</td>\n",
       "      <td>1</td>\n",
       "      <td>73-Fla.</td>\n",
       "      <td>USA</td>\n",
       "      <td>apomixis</td>\n",
       "      <td>Triantaphyllou AC: Oogenesis and the Chromosom...</td>\n",
       "    </tr>\n",
       "    <tr>\n",
       "      <th>3</th>\n",
       "      <td>M. incognita</td>\n",
       "      <td>40</td>\n",
       "      <td>46</td>\n",
       "      <td>1</td>\n",
       "      <td>22-N.C.</td>\n",
       "      <td>USA</td>\n",
       "      <td>apomixis</td>\n",
       "      <td>Triantaphyllou AC: Oogenesis and the Chromosom...</td>\n",
       "    </tr>\n",
       "    <tr>\n",
       "      <th>4</th>\n",
       "      <td>M. incognita</td>\n",
       "      <td>40</td>\n",
       "      <td>46</td>\n",
       "      <td>1</td>\n",
       "      <td>79-Ohio</td>\n",
       "      <td>USA</td>\n",
       "      <td>apomixis</td>\n",
       "      <td>Triantaphyllou AC: Oogenesis and the Chromosom...</td>\n",
       "    </tr>\n",
       "  </tbody>\n",
       "</table>\n",
       "</div>"
      ],
      "text/plain": [
       "        Species csome_low csome_high  N  Isolate Country Reproduction  \\\n",
       "0  M. incognita        40         46  1   4-N.C.     USA     apomixis   \n",
       "1  M. incognita        40         46  1  19-N.C.     USA     apomixis   \n",
       "2  M. incognita        40         46  1  73-Fla.     USA     apomixis   \n",
       "3  M. incognita        40         46  1  22-N.C.     USA     apomixis   \n",
       "4  M. incognita        40         46  1  79-Ohio     USA     apomixis   \n",
       "\n",
       "                                           Reference  \n",
       "0  Triantaphyllou AC: Oogenesis and the Chromosom...  \n",
       "1  Triantaphyllou AC: Oogenesis and the Chromosom...  \n",
       "2  Triantaphyllou AC: Oogenesis and the Chromosom...  \n",
       "3  Triantaphyllou AC: Oogenesis and the Chromosom...  \n",
       "4  Triantaphyllou AC: Oogenesis and the Chromosom...  "
      ]
     },
     "execution_count": 27,
     "metadata": {},
     "output_type": "execute_result"
    }
   ],
   "source": [
    "filled.insert(7, 'Reference', 'Triantaphyllou AC: Oogenesis and the Chromosomes of the Parthenogenic Root-knot Nematode Meloidogyne incognita. J Nematol 1981, 13:95–104.')\n",
    "filled.head()"
   ]
  },
  {
   "cell_type": "code",
   "execution_count": 29,
   "metadata": {
    "collapsed": true
   },
   "outputs": [],
   "source": [
    "filled.to_csv('raceA.csv', index=False)"
   ]
  },
  {
   "cell_type": "code",
   "execution_count": null,
   "metadata": {
    "collapsed": true
   },
   "outputs": [],
   "source": []
  }
 ],
 "metadata": {
  "kernelspec": {
   "display_name": "Python 2",
   "language": "python",
   "name": "python2"
  },
  "language_info": {
   "codemirror_mode": {
    "name": "ipython",
    "version": 2
   },
   "file_extension": ".py",
   "mimetype": "text/x-python",
   "name": "python",
   "nbconvert_exporter": "python",
   "pygments_lexer": "ipython2",
   "version": "2.7.10"
  }
 },
 "nbformat": 4,
 "nbformat_minor": 0
}
