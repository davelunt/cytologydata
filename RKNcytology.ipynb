{
 "cells": [
  {
   "cell_type": "markdown",
   "metadata": {},
   "source": [
    "# RKN cytology analysis\n",
    "Goal is to get data from cytology papers and to plot it reliably. Should maintain link between data and source.\n",
    "\n",
    "I am loading data into a csv file called cytology.csv in this folder"
   ]
  },
  {
   "cell_type": "code",
   "execution_count": 1,
   "metadata": {
    "collapsed": true
   },
   "outputs": [],
   "source": [
    "%matplotlib inline\n",
    "import pandas as pd"
   ]
  },
  {
   "cell_type": "code",
   "execution_count": 30,
   "metadata": {
    "collapsed": false
   },
   "outputs": [
    {
     "data": {
      "text/html": [
       "<div>\n",
       "<table border=\"1\" class=\"dataframe\">\n",
       "  <thead>\n",
       "    <tr style=\"text-align: right;\">\n",
       "      <th></th>\n",
       "      <th>csome_low</th>\n",
       "      <th>csome_high</th>\n",
       "      <th>N</th>\n",
       "      <th>isolate</th>\n",
       "      <th>location</th>\n",
       "      <th>country</th>\n",
       "      <th>reproduction</th>\n",
       "      <th>reference</th>\n",
       "    </tr>\n",
       "    <tr>\n",
       "      <th>species</th>\n",
       "      <th></th>\n",
       "      <th></th>\n",
       "      <th></th>\n",
       "      <th></th>\n",
       "      <th></th>\n",
       "      <th></th>\n",
       "      <th></th>\n",
       "      <th></th>\n",
       "    </tr>\n",
       "  </thead>\n",
       "  <tbody>\n",
       "    <tr>\n",
       "      <th>M. arenaria</th>\n",
       "      <td>36</td>\n",
       "      <td></td>\n",
       "      <td>1</td>\n",
       "      <td>10-NC</td>\n",
       "      <td>North Carolina</td>\n",
       "      <td>USA</td>\n",
       "      <td>automixis</td>\n",
       "      <td>Triantaphyllou AC: Polyploidy and Parthenogene...</td>\n",
       "    </tr>\n",
       "    <tr>\n",
       "      <th>M. arenaria</th>\n",
       "      <td>36</td>\n",
       "      <td></td>\n",
       "      <td>1</td>\n",
       "      <td>55-NC</td>\n",
       "      <td>North Carolina</td>\n",
       "      <td>USA</td>\n",
       "      <td>automixis</td>\n",
       "      <td>Triantaphyllou AC: Polyploidy and Parthenogene...</td>\n",
       "    </tr>\n",
       "    <tr>\n",
       "      <th>M. arenaria</th>\n",
       "      <td>36</td>\n",
       "      <td></td>\n",
       "      <td>1</td>\n",
       "      <td>98-NC</td>\n",
       "      <td>North Carolina</td>\n",
       "      <td>USA</td>\n",
       "      <td>automixis</td>\n",
       "      <td>Triantaphyllou AC: Polyploidy and Parthenogene...</td>\n",
       "    </tr>\n",
       "    <tr>\n",
       "      <th>M. arenaria</th>\n",
       "      <td>51</td>\n",
       "      <td></td>\n",
       "      <td>1</td>\n",
       "      <td>1-NC</td>\n",
       "      <td>North Carolina</td>\n",
       "      <td>USA</td>\n",
       "      <td>automixis</td>\n",
       "      <td>Triantaphyllou AC: Polyploidy and Parthenogene...</td>\n",
       "    </tr>\n",
       "    <tr>\n",
       "      <th>M. arenaria</th>\n",
       "      <td>51</td>\n",
       "      <td></td>\n",
       "      <td>1</td>\n",
       "      <td>2-NC</td>\n",
       "      <td>North Carolina</td>\n",
       "      <td>USA</td>\n",
       "      <td>automixis</td>\n",
       "      <td>Triantaphyllou AC: Polyploidy and Parthenogene...</td>\n",
       "    </tr>\n",
       "  </tbody>\n",
       "</table>\n",
       "</div>"
      ],
      "text/plain": [
       "                 csome_low    csome_high  N    isolate   location        \\\n",
       "species                                                                   \n",
       "M. arenaria               36                1  10-NC     North Carolina   \n",
       "M. arenaria               36                1  55-NC     North Carolina   \n",
       "M. arenaria               36                1  98-NC     North Carolina   \n",
       "M. arenaria               51                1  1-NC      North Carolina   \n",
       "M. arenaria               51                1  2-NC      North Carolina   \n",
       "\n",
       "                 country   reproduction  \\\n",
       "species                                   \n",
       "M. arenaria      USA       automixis      \n",
       "M. arenaria      USA       automixis      \n",
       "M. arenaria      USA       automixis      \n",
       "M. arenaria      USA       automixis      \n",
       "M. arenaria      USA       automixis      \n",
       "\n",
       "                reference                                                                                                                                                                                                                                                                                                                                                                                                                                                                     \n",
       "species                                                                                                                                                                                                                                                                                                                                                                                                                                                                                       \n",
       "M. arenaria      Triantaphyllou AC: Polyploidy and Parthenogene...                                                                                                                                                                                                                                                                                                                                                                                                                            \n",
       "M. arenaria      Triantaphyllou AC: Polyploidy and Parthenogene...                                                                                                                                                                                                                                                                                                                                                                                                                            \n",
       "M. arenaria      Triantaphyllou AC: Polyploidy and Parthenogene...                                                                                                                                                                                                                                                                                                                                                                                                                            \n",
       "M. arenaria      Triantaphyllou AC: Polyploidy and Parthenogene...                                                                                                                                                                                                                                                                                                                                                                                                                            \n",
       "M. arenaria      Triantaphyllou AC: Polyploidy and Parthenogene...                                                                                                                                                                                                                                                                                                                                                                                                                            "
      ]
     },
     "execution_count": 30,
     "metadata": {},
     "output_type": "execute_result"
    }
   ],
   "source": [
    "cytology = pd.DataFrame.from_csv(\n",
    "    'cytology.csv')\n",
    "cytology.head()"
   ]
  },
  {
   "cell_type": "code",
   "execution_count": 31,
   "metadata": {
    "collapsed": false
   },
   "outputs": [
    {
     "data": {
      "text/html": [
       "<div>\n",
       "<table border=\"1\" class=\"dataframe\">\n",
       "  <thead>\n",
       "    <tr style=\"text-align: right;\">\n",
       "      <th></th>\n",
       "      <th>csome_low</th>\n",
       "      <th>csome_high</th>\n",
       "      <th>N</th>\n",
       "      <th>isolate</th>\n",
       "      <th>location</th>\n",
       "      <th>country</th>\n",
       "      <th>reproduction</th>\n",
       "      <th>reference</th>\n",
       "    </tr>\n",
       "    <tr>\n",
       "      <th>species</th>\n",
       "      <th></th>\n",
       "      <th></th>\n",
       "      <th></th>\n",
       "      <th></th>\n",
       "      <th></th>\n",
       "      <th></th>\n",
       "      <th></th>\n",
       "      <th></th>\n",
       "    </tr>\n",
       "  </thead>\n",
       "  <tbody>\n",
       "    <tr>\n",
       "      <th>M. orvzae</th>\n",
       "      <td>51</td>\n",
       "      <td>55</td>\n",
       "      <td>2</td>\n",
       "      <td></td>\n",
       "      <td></td>\n",
       "      <td></td>\n",
       "      <td>apomixis</td>\n",
       "      <td>Triantaphyllou AC: Cytogenetics, cytotaxonomy ...</td>\n",
       "    </tr>\n",
       "    <tr>\n",
       "      <th>M. platani</th>\n",
       "      <td>42</td>\n",
       "      <td>44</td>\n",
       "      <td>1</td>\n",
       "      <td></td>\n",
       "      <td></td>\n",
       "      <td></td>\n",
       "      <td>apomixis</td>\n",
       "      <td>Triantaphyllou AC: Cytogenetics, cytotaxonomy ...</td>\n",
       "    </tr>\n",
       "    <tr>\n",
       "      <th>M. querciana</th>\n",
       "      <td>30</td>\n",
       "      <td>32</td>\n",
       "      <td>1</td>\n",
       "      <td></td>\n",
       "      <td></td>\n",
       "      <td></td>\n",
       "      <td>apomixis</td>\n",
       "      <td>Triantaphyllou AC: Cytogenetics, cytotaxonomy ...</td>\n",
       "    </tr>\n",
       "    <tr>\n",
       "      <th>M. nataliei</th>\n",
       "      <td>4</td>\n",
       "      <td>4</td>\n",
       "      <td>1</td>\n",
       "      <td></td>\n",
       "      <td></td>\n",
       "      <td></td>\n",
       "      <td>amphimixis</td>\n",
       "      <td>Triantaphyllou AC: Gametogenesis and the Chrom...</td>\n",
       "    </tr>\n",
       "    <tr>\n",
       "      <th>M. kikuyensis</th>\n",
       "      <td>7</td>\n",
       "      <td>7</td>\n",
       "      <td>1</td>\n",
       "      <td></td>\n",
       "      <td></td>\n",
       "      <td></td>\n",
       "      <td>amphimixis</td>\n",
       "      <td>Triantaphyllou AC: Cytogenetic status of Meloi...</td>\n",
       "    </tr>\n",
       "  </tbody>\n",
       "</table>\n",
       "</div>"
      ],
      "text/plain": [
       "                 csome_low    csome_high  N    isolate   location        \\\n",
       "species                                                                   \n",
       "M. orvzae                 51  55            2                             \n",
       "M. platani                42  44            1                             \n",
       "M. querciana              30  32            1                             \n",
       "M. nataliei                4  4             1                             \n",
       "M. kikuyensis              7  7             1                             \n",
       "\n",
       "                 country   reproduction  \\\n",
       "species                                   \n",
       "M. orvzae                  apomixis       \n",
       "M. platani                 apomixis       \n",
       "M. querciana               apomixis       \n",
       "M. nataliei                amphimixis     \n",
       "M. kikuyensis              amphimixis     \n",
       "\n",
       "                reference                                                                                                                                                                                                                                                                                                                                                                                                                                                                     \n",
       "species                                                                                                                                                                                                                                                                                                                                                                                                                                                                                       \n",
       "M. orvzae        Triantaphyllou AC: Cytogenetics, cytotaxonomy ...                                                                                                                                                                                                                                                                                                                                                                                                                            \n",
       "M. platani       Triantaphyllou AC: Cytogenetics, cytotaxonomy ...                                                                                                                                                                                                                                                                                                                                                                                                                            \n",
       "M. querciana     Triantaphyllou AC: Cytogenetics, cytotaxonomy ...                                                                                                                                                                                                                                                                                                                                                                                                                            \n",
       "M. nataliei      Triantaphyllou AC: Gametogenesis and the Chrom...                                                                                                                                                                                                                                                                                                                                                                                                                            \n",
       "M. kikuyensis    Triantaphyllou AC: Cytogenetic status of Meloi...                                                                                                                                                                                                                                                                                                                                                                                                                            "
      ]
     },
     "execution_count": 31,
     "metadata": {},
     "output_type": "execute_result"
    }
   ],
   "source": [
    "cytology.tail()"
   ]
  },
  {
   "cell_type": "code",
   "execution_count": 32,
   "metadata": {
    "collapsed": false
   },
   "outputs": [
    {
     "data": {
      "text/plain": [
       "43"
      ]
     },
     "execution_count": 32,
     "metadata": {},
     "output_type": "execute_result"
    }
   ],
   "source": [
    "len(cytology)"
   ]
  },
  {
   "cell_type": "code",
   "execution_count": 33,
   "metadata": {
    "collapsed": false
   },
   "outputs": [
    {
     "data": {
      "text/html": [
       "<div>\n",
       "<table border=\"1\" class=\"dataframe\">\n",
       "  <thead>\n",
       "    <tr style=\"text-align: right;\">\n",
       "      <th></th>\n",
       "      <th>csome_low</th>\n",
       "      <th>N</th>\n",
       "    </tr>\n",
       "  </thead>\n",
       "  <tbody>\n",
       "    <tr>\n",
       "      <th>count</th>\n",
       "      <td>43.00000</td>\n",
       "      <td>43.000000</td>\n",
       "    </tr>\n",
       "    <tr>\n",
       "      <th>mean</th>\n",
       "      <td>34.55814</td>\n",
       "      <td>13.813953</td>\n",
       "    </tr>\n",
       "    <tr>\n",
       "      <th>std</th>\n",
       "      <td>15.01000</td>\n",
       "      <td>38.648142</td>\n",
       "    </tr>\n",
       "    <tr>\n",
       "      <th>min</th>\n",
       "      <td>4.00000</td>\n",
       "      <td>1.000000</td>\n",
       "    </tr>\n",
       "    <tr>\n",
       "      <th>25%</th>\n",
       "      <td>18.00000</td>\n",
       "      <td>1.000000</td>\n",
       "    </tr>\n",
       "    <tr>\n",
       "      <th>50%</th>\n",
       "      <td>36.00000</td>\n",
       "      <td>1.000000</td>\n",
       "    </tr>\n",
       "    <tr>\n",
       "      <th>75%</th>\n",
       "      <td>51.00000</td>\n",
       "      <td>6.000000</td>\n",
       "    </tr>\n",
       "    <tr>\n",
       "      <th>max</th>\n",
       "      <td>54.00000</td>\n",
       "      <td>215.000000</td>\n",
       "    </tr>\n",
       "  </tbody>\n",
       "</table>\n",
       "</div>"
      ],
      "text/plain": [
       "       csome_low           N  \n",
       "count     43.00000   43.000000\n",
       "mean      34.55814   13.813953\n",
       "std       15.01000   38.648142\n",
       "min        4.00000    1.000000\n",
       "25%       18.00000    1.000000\n",
       "50%       36.00000    1.000000\n",
       "75%       51.00000    6.000000\n",
       "max       54.00000  215.000000"
      ]
     },
     "execution_count": 33,
     "metadata": {},
     "output_type": "execute_result"
    }
   ],
   "source": [
    "cytology.describe()"
   ]
  },
  {
   "cell_type": "code",
   "execution_count": 34,
   "metadata": {
    "collapsed": false
   },
   "outputs": [
    {
     "data": {
      "text/html": [
       "<div>\n",
       "<table border=\"1\" class=\"dataframe\">\n",
       "  <thead>\n",
       "    <tr style=\"text-align: right;\">\n",
       "      <th></th>\n",
       "      <th>csome_low</th>\n",
       "      <th>csome_high</th>\n",
       "      <th>N</th>\n",
       "      <th>isolate</th>\n",
       "      <th>location</th>\n",
       "      <th>country</th>\n",
       "      <th>reproduction</th>\n",
       "      <th>reference</th>\n",
       "    </tr>\n",
       "    <tr>\n",
       "      <th>species</th>\n",
       "      <th></th>\n",
       "      <th></th>\n",
       "      <th></th>\n",
       "      <th></th>\n",
       "      <th></th>\n",
       "      <th></th>\n",
       "      <th></th>\n",
       "      <th></th>\n",
       "    </tr>\n",
       "  </thead>\n",
       "  <tbody>\n",
       "    <tr>\n",
       "      <th>M. arenaria</th>\n",
       "      <td>36</td>\n",
       "      <td></td>\n",
       "      <td>1</td>\n",
       "      <td>10-NC</td>\n",
       "      <td>North Carolina</td>\n",
       "      <td>USA</td>\n",
       "      <td>automixis</td>\n",
       "      <td>Triantaphyllou AC: Polyploidy and Parthenogene...</td>\n",
       "    </tr>\n",
       "    <tr>\n",
       "      <th>M. arenaria</th>\n",
       "      <td>36</td>\n",
       "      <td></td>\n",
       "      <td>1</td>\n",
       "      <td>55-NC</td>\n",
       "      <td>North Carolina</td>\n",
       "      <td>USA</td>\n",
       "      <td>automixis</td>\n",
       "      <td>Triantaphyllou AC: Polyploidy and Parthenogene...</td>\n",
       "    </tr>\n",
       "    <tr>\n",
       "      <th>M. arenaria</th>\n",
       "      <td>36</td>\n",
       "      <td></td>\n",
       "      <td>1</td>\n",
       "      <td>98-NC</td>\n",
       "      <td>North Carolina</td>\n",
       "      <td>USA</td>\n",
       "      <td>automixis</td>\n",
       "      <td>Triantaphyllou AC: Polyploidy and Parthenogene...</td>\n",
       "    </tr>\n",
       "    <tr>\n",
       "      <th>M. arenaria</th>\n",
       "      <td>51</td>\n",
       "      <td></td>\n",
       "      <td>1</td>\n",
       "      <td>1-NC</td>\n",
       "      <td>North Carolina</td>\n",
       "      <td>USA</td>\n",
       "      <td>automixis</td>\n",
       "      <td>Triantaphyllou AC: Polyploidy and Parthenogene...</td>\n",
       "    </tr>\n",
       "    <tr>\n",
       "      <th>M. arenaria</th>\n",
       "      <td>51</td>\n",
       "      <td></td>\n",
       "      <td>1</td>\n",
       "      <td>2-NC</td>\n",
       "      <td>North Carolina</td>\n",
       "      <td>USA</td>\n",
       "      <td>automixis</td>\n",
       "      <td>Triantaphyllou AC: Polyploidy and Parthenogene...</td>\n",
       "    </tr>\n",
       "  </tbody>\n",
       "</table>\n",
       "</div>"
      ],
      "text/plain": [
       "                 csome_low    csome_high  N    isolate   location        \\\n",
       "species                                                                   \n",
       "M. arenaria               36                1  10-NC     North Carolina   \n",
       "M. arenaria               36                1  55-NC     North Carolina   \n",
       "M. arenaria               36                1  98-NC     North Carolina   \n",
       "M. arenaria               51                1  1-NC      North Carolina   \n",
       "M. arenaria               51                1  2-NC      North Carolina   \n",
       "\n",
       "                 country   reproduction  \\\n",
       "species                                   \n",
       "M. arenaria      USA       automixis      \n",
       "M. arenaria      USA       automixis      \n",
       "M. arenaria      USA       automixis      \n",
       "M. arenaria      USA       automixis      \n",
       "M. arenaria      USA       automixis      \n",
       "\n",
       "                reference                                                                                                                                                                                                                                                                                                                                                                                                                                                                     \n",
       "species                                                                                                                                                                                                                                                                                                                                                                                                                                                                                       \n",
       "M. arenaria      Triantaphyllou AC: Polyploidy and Parthenogene...                                                                                                                                                                                                                                                                                                                                                                                                                            \n",
       "M. arenaria      Triantaphyllou AC: Polyploidy and Parthenogene...                                                                                                                                                                                                                                                                                                                                                                                                                            \n",
       "M. arenaria      Triantaphyllou AC: Polyploidy and Parthenogene...                                                                                                                                                                                                                                                                                                                                                                                                                            \n",
       "M. arenaria      Triantaphyllou AC: Polyploidy and Parthenogene...                                                                                                                                                                                                                                                                                                                                                                                                                            \n",
       "M. arenaria      Triantaphyllou AC: Polyploidy and Parthenogene...                                                                                                                                                                                                                                                                                                                                                                                                                            "
      ]
     },
     "execution_count": 34,
     "metadata": {},
     "output_type": "execute_result"
    }
   ],
   "source": [
    "c = cytology\n",
    "c.head()"
   ]
  },
  {
   "cell_type": "code",
   "execution_count": 35,
   "metadata": {
    "collapsed": false
   },
   "outputs": [
    {
     "ename": "AttributeError",
     "evalue": "'DataFrame' object has no attribute 'N'",
     "output_type": "error",
     "traceback": [
      "\u001b[0;31m---------------------------------------------------------------------------\u001b[0m",
      "\u001b[0;31mAttributeError\u001b[0m                            Traceback (most recent call last)",
      "\u001b[0;32m<ipython-input-35-55c5729aa06a>\u001b[0m in \u001b[0;36m<module>\u001b[0;34m()\u001b[0m\n\u001b[0;32m----> 1\u001b[0;31m \u001b[0mc\u001b[0m\u001b[0;34m[\u001b[0m\u001b[0mc\u001b[0m\u001b[0;34m.\u001b[0m\u001b[0mN\u001b[0m\u001b[0;34m]\u001b[0m\u001b[0;34m\u001b[0m\u001b[0m\n\u001b[0m",
      "\u001b[0;32m//anaconda/lib/python2.7/site-packages/pandas/core/generic.pyc\u001b[0m in \u001b[0;36m__getattr__\u001b[0;34m(self, name)\u001b[0m\n\u001b[1;32m   2148\u001b[0m                 \u001b[0;32mreturn\u001b[0m \u001b[0mself\u001b[0m\u001b[0;34m[\u001b[0m\u001b[0mname\u001b[0m\u001b[0;34m]\u001b[0m\u001b[0;34m\u001b[0m\u001b[0m\n\u001b[1;32m   2149\u001b[0m             raise AttributeError(\"'%s' object has no attribute '%s'\" %\n\u001b[0;32m-> 2150\u001b[0;31m                                  (type(self).__name__, name))\n\u001b[0m\u001b[1;32m   2151\u001b[0m \u001b[0;34m\u001b[0m\u001b[0m\n\u001b[1;32m   2152\u001b[0m     \u001b[0;32mdef\u001b[0m \u001b[0m__setattr__\u001b[0m\u001b[0;34m(\u001b[0m\u001b[0mself\u001b[0m\u001b[0;34m,\u001b[0m \u001b[0mname\u001b[0m\u001b[0;34m,\u001b[0m \u001b[0mvalue\u001b[0m\u001b[0;34m)\u001b[0m\u001b[0;34m:\u001b[0m\u001b[0;34m\u001b[0m\u001b[0m\n",
      "\u001b[0;31mAttributeError\u001b[0m: 'DataFrame' object has no attribute 'N'"
     ]
    }
   ],
   "source": [
    "c[c.N]"
   ]
  },
  {
   "cell_type": "code",
   "execution_count": null,
   "metadata": {
    "collapsed": true
   },
   "outputs": [],
   "source": []
  },
  {
   "cell_type": "code",
   "execution_count": null,
   "metadata": {
    "collapsed": true
   },
   "outputs": [],
   "source": []
  },
  {
   "cell_type": "code",
   "execution_count": null,
   "metadata": {
    "collapsed": true
   },
   "outputs": [],
   "source": []
  },
  {
   "cell_type": "code",
   "execution_count": null,
   "metadata": {
    "collapsed": true
   },
   "outputs": [],
   "source": []
  },
  {
   "cell_type": "code",
   "execution_count": null,
   "metadata": {
    "collapsed": true
   },
   "outputs": [],
   "source": []
  },
  {
   "cell_type": "code",
   "execution_count": null,
   "metadata": {
    "collapsed": true
   },
   "outputs": [],
   "source": []
  }
 ],
 "metadata": {
  "kernelspec": {
   "display_name": "Python 2",
   "language": "python",
   "name": "python2"
  },
  "language_info": {
   "codemirror_mode": {
    "name": "ipython",
    "version": 2
   },
   "file_extension": ".py",
   "mimetype": "text/x-python",
   "name": "python",
   "nbconvert_exporter": "python",
   "pygments_lexer": "ipython2",
   "version": "2.7.10"
  }
 },
 "nbformat": 4,
 "nbformat_minor": 0
}
