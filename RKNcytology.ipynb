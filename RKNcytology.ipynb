{
 "cells": [
  {
   "cell_type": "markdown",
   "metadata": {},
   "source": [
    "# RKN cytology analysis\n",
    "Goal is to get data from cytology papers and to plot it reliably. Should maintain link between data and source.\n",
    "\n",
    "I am loading data into a csv file called cytology.csv in this folder"
   ]
  },
  {
   "cell_type": "code",
   "execution_count": 2,
   "metadata": {
    "collapsed": true
   },
   "outputs": [],
   "source": [
    "%matplotlib inline\n",
    "import pandas as pd"
   ]
  },
  {
   "cell_type": "code",
   "execution_count": 3,
   "metadata": {
    "collapsed": false
   },
   "outputs": [
    {
     "data": {
      "text/html": [
       "<div>\n",
       "<table border=\"1\" class=\"dataframe\">\n",
       "  <thead>\n",
       "    <tr style=\"text-align: right;\">\n",
       "      <th></th>\n",
       "      <th>csome_low</th>\n",
       "      <th>csome_high</th>\n",
       "      <th>N</th>\n",
       "      <th>Isolate</th>\n",
       "      <th>Location</th>\n",
       "      <th>Country</th>\n",
       "      <th>Reproduction</th>\n",
       "      <th>Reference</th>\n",
       "    </tr>\n",
       "    <tr>\n",
       "      <th>Species</th>\n",
       "      <th></th>\n",
       "      <th></th>\n",
       "      <th></th>\n",
       "      <th></th>\n",
       "      <th></th>\n",
       "      <th></th>\n",
       "      <th></th>\n",
       "      <th></th>\n",
       "    </tr>\n",
       "  </thead>\n",
       "  <tbody>\n",
       "    <tr>\n",
       "      <th>M. arenaria</th>\n",
       "      <td>36</td>\n",
       "      <td></td>\n",
       "      <td>1</td>\n",
       "      <td>10-NC</td>\n",
       "      <td>North Carolina</td>\n",
       "      <td>USA</td>\n",
       "      <td>automixis</td>\n",
       "      <td>Triantaphyllou AC: Polyploidy and Parthenogene...</td>\n",
       "    </tr>\n",
       "    <tr>\n",
       "      <th>M. arenaria</th>\n",
       "      <td>36</td>\n",
       "      <td></td>\n",
       "      <td>1</td>\n",
       "      <td>55-NC</td>\n",
       "      <td>North Carolina</td>\n",
       "      <td>USA</td>\n",
       "      <td>automixis</td>\n",
       "      <td>Triantaphyllou AC: Polyploidy and Parthenogene...</td>\n",
       "    </tr>\n",
       "    <tr>\n",
       "      <th>M. arenaria</th>\n",
       "      <td>36</td>\n",
       "      <td></td>\n",
       "      <td>1</td>\n",
       "      <td>98-NC</td>\n",
       "      <td>North Carolina</td>\n",
       "      <td>USA</td>\n",
       "      <td>automixis</td>\n",
       "      <td>Triantaphyllou AC: Polyploidy and Parthenogene...</td>\n",
       "    </tr>\n",
       "    <tr>\n",
       "      <th>M. arenaria</th>\n",
       "      <td>51</td>\n",
       "      <td></td>\n",
       "      <td>1</td>\n",
       "      <td>1-NC</td>\n",
       "      <td>North Carolina</td>\n",
       "      <td>USA</td>\n",
       "      <td>automixis</td>\n",
       "      <td>Triantaphyllou AC: Polyploidy and Parthenogene...</td>\n",
       "    </tr>\n",
       "    <tr>\n",
       "      <th>M. arenaria</th>\n",
       "      <td>51</td>\n",
       "      <td></td>\n",
       "      <td>1</td>\n",
       "      <td>2-NC</td>\n",
       "      <td>North Carolina</td>\n",
       "      <td>USA</td>\n",
       "      <td>automixis</td>\n",
       "      <td>Triantaphyllou AC: Polyploidy and Parthenogene...</td>\n",
       "    </tr>\n",
       "  </tbody>\n",
       "</table>\n",
       "</div>"
      ],
      "text/plain": [
       "                 csome_low  csome_high  N    Isolate    Location        \\\n",
       "Species                                                                  \n",
       "M. arenaria             36                1  10-NC      North Carolina   \n",
       "M. arenaria             36                1  55-NC      North Carolina   \n",
       "M. arenaria             36                1  98-NC      North Carolina   \n",
       "M. arenaria             51                1  1-NC       North Carolina   \n",
       "M. arenaria             51                1  2-NC       North Carolina   \n",
       "\n",
       "                 Country       Reproduction  \\\n",
       "Species                                       \n",
       "M. arenaria      USA           automixis      \n",
       "M. arenaria      USA           automixis      \n",
       "M. arenaria      USA           automixis      \n",
       "M. arenaria      USA           automixis      \n",
       "M. arenaria      USA           automixis      \n",
       "\n",
       "                Reference                                                                                                                                                                                                                                                                                                                    \n",
       "Species                                                                                                                                                                                                                                                                                                                                      \n",
       "M. arenaria      Triantaphyllou AC: Polyploidy and Parthenogene...                                                                                                                                                                                                                                                                           \n",
       "M. arenaria      Triantaphyllou AC: Polyploidy and Parthenogene...                                                                                                                                                                                                                                                                           \n",
       "M. arenaria      Triantaphyllou AC: Polyploidy and Parthenogene...                                                                                                                                                                                                                                                                           \n",
       "M. arenaria      Triantaphyllou AC: Polyploidy and Parthenogene...                                                                                                                                                                                                                                                                           \n",
       "M. arenaria      Triantaphyllou AC: Polyploidy and Parthenogene...                                                                                                                                                                                                                                                                           "
      ]
     },
     "execution_count": 3,
     "metadata": {},
     "output_type": "execute_result"
    }
   ],
   "source": [
    "cytology = pd.DataFrame.from_csv(\n",
    "    'cytology.csv')\n",
    "cytology.head()"
   ]
  },
  {
   "cell_type": "code",
   "execution_count": 4,
   "metadata": {
    "collapsed": false
   },
   "outputs": [
    {
     "data": {
      "text/html": [
       "<div>\n",
       "<table border=\"1\" class=\"dataframe\">\n",
       "  <thead>\n",
       "    <tr style=\"text-align: right;\">\n",
       "      <th></th>\n",
       "      <th>csome_low</th>\n",
       "      <th>csome_high</th>\n",
       "      <th>N</th>\n",
       "      <th>Isolate</th>\n",
       "      <th>Location</th>\n",
       "      <th>Country</th>\n",
       "      <th>Reproduction</th>\n",
       "      <th>Reference</th>\n",
       "    </tr>\n",
       "    <tr>\n",
       "      <th>Species</th>\n",
       "      <th></th>\n",
       "      <th></th>\n",
       "      <th></th>\n",
       "      <th></th>\n",
       "      <th></th>\n",
       "      <th></th>\n",
       "      <th></th>\n",
       "      <th></th>\n",
       "    </tr>\n",
       "  </thead>\n",
       "  <tbody>\n",
       "    <tr>\n",
       "      <th>M. ottersoni</th>\n",
       "      <td>18</td>\n",
       "      <td></td>\n",
       "      <td>1</td>\n",
       "      <td></td>\n",
       "      <td></td>\n",
       "      <td></td>\n",
       "      <td>automixis</td>\n",
       "      <td>Triantaphyllou AC: Cytogenetics, cytotaxonomy ...</td>\n",
       "    </tr>\n",
       "    <tr>\n",
       "      <th>M. partityla</th>\n",
       "      <td>40</td>\n",
       "      <td>42</td>\n",
       "      <td>1</td>\n",
       "      <td>Nels7</td>\n",
       "      <td>Mataffin</td>\n",
       "      <td>South Africa</td>\n",
       "      <td>apomixis</td>\n",
       "      <td>Marais M, DE W. KRUGER JC: THE CYTOGENETICS OF...</td>\n",
       "    </tr>\n",
       "    <tr>\n",
       "      <th>M. platani</th>\n",
       "      <td>42</td>\n",
       "      <td>44</td>\n",
       "      <td>1</td>\n",
       "      <td></td>\n",
       "      <td></td>\n",
       "      <td></td>\n",
       "      <td>apomixis</td>\n",
       "      <td>Triantaphyllou AC: Cytogenetics, cytotaxonomy ...</td>\n",
       "    </tr>\n",
       "    <tr>\n",
       "      <th>M. querciana</th>\n",
       "      <td>30</td>\n",
       "      <td>32</td>\n",
       "      <td>1</td>\n",
       "      <td></td>\n",
       "      <td></td>\n",
       "      <td></td>\n",
       "      <td>apomixis</td>\n",
       "      <td>Triantaphyllou AC: Cytogenetics, cytotaxonomy ...</td>\n",
       "    </tr>\n",
       "    <tr>\n",
       "      <th>M. subarctica</th>\n",
       "      <td>18</td>\n",
       "      <td></td>\n",
       "      <td>1</td>\n",
       "      <td></td>\n",
       "      <td></td>\n",
       "      <td></td>\n",
       "      <td>automixis</td>\n",
       "      <td>Triantaphyllou AC: Cytogenetics, cytotaxonomy ...</td>\n",
       "    </tr>\n",
       "  </tbody>\n",
       "</table>\n",
       "</div>"
      ],
      "text/plain": [
       "                 csome_low  csome_high  N    Isolate    Location        \\\n",
       "Species                                                                  \n",
       "M. ottersoni            18                1                              \n",
       "M. partityla            40  42            1  Nels7      Mataffin         \n",
       "M. platani              42  44            1                              \n",
       "M. querciana            30  32            1                              \n",
       "M. subarctica           18                1                              \n",
       "\n",
       "                 Country       Reproduction  \\\n",
       "Species                                       \n",
       "M. ottersoni                   automixis      \n",
       "M. partityla     South Africa  apomixis       \n",
       "M. platani                     apomixis       \n",
       "M. querciana                   apomixis       \n",
       "M. subarctica                  automixis      \n",
       "\n",
       "                Reference                                                                                                                                                                                                                                                                                                                    \n",
       "Species                                                                                                                                                                                                                                                                                                                                      \n",
       "M. ottersoni     Triantaphyllou AC: Cytogenetics, cytotaxonomy ...                                                                                                                                                                                                                                                                           \n",
       "M. partityla     Marais M, DE W. KRUGER JC: THE CYTOGENETICS OF...                                                                                                                                                                                                                                                                           \n",
       "M. platani       Triantaphyllou AC: Cytogenetics, cytotaxonomy ...                                                                                                                                                                                                                                                                           \n",
       "M. querciana     Triantaphyllou AC: Cytogenetics, cytotaxonomy ...                                                                                                                                                                                                                                                                           \n",
       "M. subarctica    Triantaphyllou AC: Cytogenetics, cytotaxonomy ...                                                                                                                                                                                                                                                                           "
      ]
     },
     "execution_count": 4,
     "metadata": {},
     "output_type": "execute_result"
    }
   ],
   "source": [
    "cytology.tail()"
   ]
  },
  {
   "cell_type": "code",
   "execution_count": 5,
   "metadata": {
    "collapsed": false
   },
   "outputs": [
    {
     "data": {
      "text/plain": [
       "114"
      ]
     },
     "execution_count": 5,
     "metadata": {},
     "output_type": "execute_result"
    }
   ],
   "source": [
    "len(cytology)"
   ]
  },
  {
   "cell_type": "code",
   "execution_count": 6,
   "metadata": {
    "collapsed": false
   },
   "outputs": [
    {
     "data": {
      "text/html": [
       "<div>\n",
       "<table border=\"1\" class=\"dataframe\">\n",
       "  <thead>\n",
       "    <tr style=\"text-align: right;\">\n",
       "      <th></th>\n",
       "      <th>csome_low</th>\n",
       "      <th>N</th>\n",
       "    </tr>\n",
       "  </thead>\n",
       "  <tbody>\n",
       "    <tr>\n",
       "      <th>count</th>\n",
       "      <td>114.000000</td>\n",
       "      <td>114.000000</td>\n",
       "    </tr>\n",
       "    <tr>\n",
       "      <th>mean</th>\n",
       "      <td>35.271930</td>\n",
       "      <td>5.833333</td>\n",
       "    </tr>\n",
       "    <tr>\n",
       "      <th>std</th>\n",
       "      <td>10.206093</td>\n",
       "      <td>24.373900</td>\n",
       "    </tr>\n",
       "    <tr>\n",
       "      <th>min</th>\n",
       "      <td>4.000000</td>\n",
       "      <td>1.000000</td>\n",
       "    </tr>\n",
       "    <tr>\n",
       "      <th>25%</th>\n",
       "      <td>30.250000</td>\n",
       "      <td>1.000000</td>\n",
       "    </tr>\n",
       "    <tr>\n",
       "      <th>50%</th>\n",
       "      <td>34.000000</td>\n",
       "      <td>1.000000</td>\n",
       "    </tr>\n",
       "    <tr>\n",
       "      <th>75%</th>\n",
       "      <td>41.750000</td>\n",
       "      <td>1.000000</td>\n",
       "    </tr>\n",
       "    <tr>\n",
       "      <th>max</th>\n",
       "      <td>54.000000</td>\n",
       "      <td>215.000000</td>\n",
       "    </tr>\n",
       "  </tbody>\n",
       "</table>\n",
       "</div>"
      ],
      "text/plain": [
       "        csome_low         N  \n",
       "count  114.000000  114.000000\n",
       "mean    35.271930    5.833333\n",
       "std     10.206093   24.373900\n",
       "min      4.000000    1.000000\n",
       "25%     30.250000    1.000000\n",
       "50%     34.000000    1.000000\n",
       "75%     41.750000    1.000000\n",
       "max     54.000000  215.000000"
      ]
     },
     "execution_count": 6,
     "metadata": {},
     "output_type": "execute_result"
    }
   ],
   "source": [
    "cytology.describe()"
   ]
  },
  {
   "cell_type": "code",
   "execution_count": 33,
   "metadata": {
    "collapsed": false
   },
   "outputs": [],
   "source": [
    "c = cytology"
   ]
  },
  {
   "cell_type": "code",
   "execution_count": 20,
   "metadata": {
    "collapsed": false
   },
   "outputs": [
    {
     "data": {
      "text/html": [
       "<div>\n",
       "<table border=\"1\" class=\"dataframe\">\n",
       "  <thead>\n",
       "    <tr style=\"text-align: right;\">\n",
       "      <th></th>\n",
       "      <th>csome_low</th>\n",
       "      <th>csome_high</th>\n",
       "    </tr>\n",
       "    <tr>\n",
       "      <th>Species</th>\n",
       "      <th></th>\n",
       "      <th></th>\n",
       "    </tr>\n",
       "  </thead>\n",
       "  <tbody>\n",
       "    <tr>\n",
       "      <th>M. arenaria</th>\n",
       "      <td>36</td>\n",
       "      <td></td>\n",
       "    </tr>\n",
       "    <tr>\n",
       "      <th>M. arenaria</th>\n",
       "      <td>36</td>\n",
       "      <td></td>\n",
       "    </tr>\n",
       "    <tr>\n",
       "      <th>M. arenaria</th>\n",
       "      <td>36</td>\n",
       "      <td></td>\n",
       "    </tr>\n",
       "    <tr>\n",
       "      <th>M. arenaria</th>\n",
       "      <td>51</td>\n",
       "      <td></td>\n",
       "    </tr>\n",
       "    <tr>\n",
       "      <th>M. arenaria</th>\n",
       "      <td>51</td>\n",
       "      <td></td>\n",
       "    </tr>\n",
       "  </tbody>\n",
       "</table>\n",
       "</div>"
      ],
      "text/plain": [
       "                 csome_low  csome_high\n",
       "Species                               \n",
       "M. arenaria             36            \n",
       "M. arenaria             36            \n",
       "M. arenaria             36            \n",
       "M. arenaria             51            \n",
       "M. arenaria             51            "
      ]
     },
     "execution_count": 20,
     "metadata": {},
     "output_type": "execute_result"
    }
   ],
   "source": [
    "data=c[['csome_low','csome_high']]\n",
    "data.head()"
   ]
  },
  {
   "cell_type": "code",
   "execution_count": 31,
   "metadata": {
    "collapsed": false
   },
   "outputs": [
    {
     "data": {
      "image/png": "[encoded data removed]",
      "text/plain": [
       "<matplotlib.figure.Figure at 0x106e2e1d0>"
      ]
     },
     "metadata": {},
     "output_type": "display_data"
    }
   ],
   "source": [
    "plot=data.plot(kind='bar', figsize=(18,6))\n",
    "fig=plot.get_figure()\n",
    "fig.savefig(\"RKNchromosomes.png\")"
   ]
  },
  {
   "cell_type": "code",
   "execution_count": 46,
   "metadata": {
    "collapsed": false
   },
   "outputs": [
    {
     "ename": "SyntaxError",
     "evalue": "non-keyword arg after keyword arg (<ipython-input-46-0348810698fe>, line 2)",
     "output_type": "error",
     "traceback": [
      "\u001b[0;36m  File \u001b[0;32m\"<ipython-input-46-0348810698fe>\"\u001b[0;36m, line \u001b[0;32m2\u001b[0m\n\u001b[0;31m    data.plot(kind='scatter','csome_low','csome_high')\u001b[0m\n\u001b[0;31mSyntaxError\u001b[0m\u001b[0;31m:\u001b[0m non-keyword arg after keyword arg\n"
     ]
    }
   ],
   "source": [
    "import matplotlib.pyplot as plt\n",
    "data.plot(kind='scatter','csome_low','csome_high')\n",
    "#plt.data(kind='scatter',csome_low,csome_high)\n",
    "#plt.data(kind='plot',csome_low,csome_high)\n",
    "#plt.show()"
   ]
  },
  {
   "cell_type": "code",
   "execution_count": 32,
   "metadata": {
    "collapsed": false
   },
   "outputs": [
    {
     "ename": "NameError",
     "evalue": "name 'plt' is not defined",
     "output_type": "error",
     "traceback": [
      "\u001b[0;31m---------------------------------------------------------------------------\u001b[0m",
      "\u001b[0;31mNameError\u001b[0m                                 Traceback (most recent call last)",
      "\u001b[0;32m<ipython-input-32-02a60b55ccfd>\u001b[0m in \u001b[0;36m<module>\u001b[0;34m()\u001b[0m\n\u001b[0;32m----> 1\u001b[0;31m \u001b[0mplt\u001b[0m\u001b[0;34m.\u001b[0m\u001b[0mscatter\u001b[0m\u001b[0;34m(\u001b[0m\u001b[0mdates\u001b[0m\u001b[0;34m,\u001b[0m\u001b[0mvalues\u001b[0m\u001b[0;34m)\u001b[0m\u001b[0;34m\u001b[0m\u001b[0m\n\u001b[0m\u001b[1;32m      2\u001b[0m \u001b[0mplt\u001b[0m\u001b[0;34m.\u001b[0m\u001b[0mplot\u001b[0m\u001b[0;34m(\u001b[0m\u001b[0mdates\u001b[0m\u001b[0;34m,\u001b[0m \u001b[0mvalues\u001b[0m\u001b[0;34m)\u001b[0m\u001b[0;34m\u001b[0m\u001b[0m\n\u001b[1;32m      3\u001b[0m \u001b[0mplt\u001b[0m\u001b[0;34m.\u001b[0m\u001b[0mshow\u001b[0m\u001b[0;34m(\u001b[0m\u001b[0;34m)\u001b[0m\u001b[0;34m\u001b[0m\u001b[0m\n",
      "\u001b[0;31mNameError\u001b[0m: name 'plt' is not defined"
     ]
    }
   ],
   "source": [
    "plt.scatter(dates,values)\n",
    "plt.plot(dates, values)\n",
    "plt.show()"
   ]
  },
  {
   "cell_type": "code",
   "execution_count": null,
   "metadata": {
    "collapsed": true
   },
   "outputs": [],
   "source": []
  },
  {
   "cell_type": "code",
   "execution_count": null,
   "metadata": {
    "collapsed": true
   },
   "outputs": [],
   "source": []
  }
 ],
 "metadata": {
  "kernelspec": {
   "display_name": "Python 2",
   "language": "python",
   "name": "python2"
  },
  "language_info": {
   "codemirror_mode": {
    "name": "ipython",
    "version": 2
   },
   "file_extension": ".py",
   "mimetype": "text/x-python",
   "name": "python",
   "nbconvert_exporter": "python",
   "pygments_lexer": "ipython2",
   "version": "2.7.10"
  }
 },
 "nbformat": 4,
 "nbformat_minor": 0
}
